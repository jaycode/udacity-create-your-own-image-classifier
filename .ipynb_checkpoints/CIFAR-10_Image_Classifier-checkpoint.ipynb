{
 "cells": [
  {
   "cell_type": "markdown",
   "metadata": {},
   "source": [
    "# Introduction\n",
    "\n",
    "In this project, you will build a neural network of your own design to evaluate the CIFAR-10 dataset.\n",
    "Our target accuracy is 70%, but any accuracy over 50% is a great start.\n",
    "Some of the benchmark results on CIFAR-10 include:\n",
    "\n",
    "78.9% Accuracy | [Deep Belief Networks; Krizhevsky, 2010](https://www.cs.toronto.edu/~kriz/conv-cifar10-aug2010.pdf)\n",
    "\n",
    "90.6% Accuracy | [Maxout Networks; Goodfellow et al., 2013](https://arxiv.org/pdf/1302.4389.pdf)\n",
    "\n",
    "96.0% Accuracy | [Wide Residual Networks; Zagoruyko et al., 2016](https://arxiv.org/pdf/1605.07146.pdf)\n",
    "\n",
    "99.0% Accuracy | [GPipe; Huang et al., 2018](https://arxiv.org/pdf/1811.06965.pdf)\n",
    "\n",
    "98.5% Accuracy | [Rethinking Recurrent Neural Networks and other Improvements for ImageClassification; Nguyen et al., 2020](https://arxiv.org/pdf/2007.15161.pdf)\n",
    "\n",
    "Research with this dataset is ongoing. Notably, many of these networks are quite large and quite expensive to train. \n",
    "\n",
    "## Imports"
   ]
  },
  {
   "cell_type": "code",
   "execution_count": 2,
   "metadata": {},
   "outputs": [],
   "source": [
    "## This cell contains the essential imports you will need – DO NOT CHANGE THE CONTENTS! ##\n",
    "import torch\n",
    "import torch.nn as nn\n",
    "import torch.nn.functional as F\n",
    "import torch.optim as optim\n",
    "import torchvision\n",
    "import torchvision.transforms as transforms\n",
    "import matplotlib.pyplot as plt\n",
    "import numpy as np\n",
    "from torch.utils.data.sampler import SubsetRandomSampler\n",
    "from torchvision import datasets, transforms, models\n",
    "import os\n",
    "\n",
    "# Settings\n",
    "DATA_DIR = 'CIFAR'\n",
    "VALIDATION_SIZE = 0.2 # Size of the validation dataset as a percentage of total data.\n",
    "RANDOM_STATE = 13\n",
    "CHECKPOINT_FILEPATH = 'checkpoint_CIFAR10.pth'"
   ]
  },
  {
   "cell_type": "markdown",
   "metadata": {},
   "source": [
    "## Load the Dataset\n",
    "\n",
    "Specify your transforms as a list first.\n",
    "The transforms module is already loaded as `transforms`.\n",
    "\n",
    "CIFAR-10 is fortunately included in the torchvision module.\n",
    "Then, you can create your dataset using the `CIFAR10` object from `torchvision.datasets` ([the documentation is available here](https://pytorch.org/docs/stable/torchvision/datasets.html#cifar)).\n",
    "Make sure to specify `download=True`! \n",
    "\n",
    "Once your dataset is created, you'll also need to define a `DataLoader` from the `torch.utils.data` module for both the train and the test set."
   ]
  },
  {
   "cell_type": "code",
   "execution_count": null,
   "metadata": {},
   "outputs": [],
   "source": []
  },
  {
   "cell_type": "code",
   "execution_count": 3,
   "metadata": {},
   "outputs": [
    {
     "name": "stdout",
     "output_type": "stream",
     "text": [
      "Files already downloaded and verified\n",
      "Files already downloaded and verified\n",
      "Files already downloaded and verified\n"
     ]
    }
   ],
   "source": [
    "# Define transforms\n",
    "## YOUR CODE HERE ##\n",
    "\n",
    "# Download dataset only for mean and std calculations.\n",
    "# traindata =  torchvision.datasets.CIFAR10('./data/train_untransformed', \n",
    "#                                           download=True, \n",
    "#                                           train=True, \n",
    "#                                           transform=transforms.ToTensor())\n",
    "# train_images = torch.stack([image for image, _ in traindata], dim=3)\n",
    "# mean, std = train_images.view(3, -1).mean(dim=1), train_images.view(3, -1).std(dim=1)\n",
    "\n",
    "# Use image mean and standard deviations for transformations.\n",
    "# train_transform = transforms.Compose([transforms.RandomRotation(45),\n",
    "#                                      transforms.RandomHorizontalFlip(),\n",
    "#                                      transforms.ToTensor(),\n",
    "#                                      transforms.Normalize(mean, \n",
    "#                                                           std)])\n",
    "# test_transform = transforms.Compose([transforms.ToTensor(),\n",
    "#                                      transforms.Normalize(mean, \n",
    "#                                                           std)])\n",
    "\n",
    "\n",
    "# Use recommended Normalize setting by torchvision\n",
    "train_transform = transforms.Compose([transforms.RandomRotation(30),\n",
    "                                      transforms.RandomHorizontalFlip(),\n",
    "                                      transforms.ToTensor(),\n",
    "                                      transforms.Normalize(mean=[0.485, 0.456, 0.406],\n",
    "                                                           std=[0.229, 0.224, 0.225])])\n",
    "test_transform = transforms.Compose([transforms.ToTensor(),\n",
    "                                     transforms.Normalize(mean=[0.485, 0.456, 0.406],\n",
    "                                                          std=[0.229, 0.224, 0.225])])\n",
    "\n",
    "# Create training set and define training dataloader\n",
    "## YOUR CODE HERE ##\n",
    "train_set = torchvision.datasets.CIFAR10(root='./data/train', train=True, download=True, transform=train_transform)\n",
    "val_set = torchvision.datasets.CIFAR10(root='./data/val', train=True, download=True, transform=test_transform)\n",
    "\n",
    "num_train = len(train_set)\n",
    "indices = list(range(num_train))\n",
    "split = int(np.floor(VALIDATION_SIZE* num_train))\n",
    "\n",
    "np.random.seed(RANDOM_STATE)\n",
    "np.random.shuffle(indices)\n",
    "\n",
    "train_idx, valid_idx = indices[split:], indices[:split]\n",
    "train_sampler = SubsetRandomSampler(train_idx)\n",
    "val_sampler = SubsetRandomSampler(valid_idx)\n",
    "\n",
    "train_loader = torch.utils.data.DataLoader(train_set, batch_size=64, shuffle=False, sampler=train_sampler)\n",
    "val_loader = torch.utils.data.DataLoader(val_set, batch_size=64, shuffle=False, sampler=val_sampler)\n",
    "\n",
    "\n",
    "# Create test set and define test dataloader\n",
    "## YOUR CODE HERE ##\n",
    "test_set = torchvision.datasets.CIFAR10(root='./data/test', train=False, download=True, transform=test_transform)\n",
    "test_loader = torch.utils.data.DataLoader(test_set, batch_size=64, shuffle=False)\n",
    "\n",
    "# The 10 classes in the dataset\n",
    "classes = ('plane', 'car', 'bird', 'cat', 'deer', 'dog', 'frog', 'horse', 'ship', 'truck')"
   ]
  },
  {
   "cell_type": "code",
   "execution_count": 4,
   "metadata": {},
   "outputs": [
    {
     "name": "stdout",
     "output_type": "stream",
     "text": [
      "Number of train data rows: 50000\n"
     ]
    }
   ],
   "source": [
    "print(\"Number of train data rows:\", num_train)"
   ]
  },
  {
   "cell_type": "markdown",
   "metadata": {},
   "source": [
    "## Explore the Dataset\n",
    "Using matplotlib, numpy, and torch, explore the dimensions of your data.\n",
    "\n",
    "You can view images using the `show5` function defined below – it takes a data loader as an argument.\n",
    "Remember that normalized images will look really weird to you! You may want to try changing your transforms to view images.\n",
    "Typically using no transforms other than `toTensor()` works well for viewing – but not as well for training your network.\n",
    "If `show5` doesn't work, go back and check your code for creating your data loaders and your training/test sets."
   ]
  },
  {
   "cell_type": "code",
   "execution_count": 5,
   "metadata": {},
   "outputs": [],
   "source": [
    "def show5(img_loader):\n",
    "    dataiter = iter(img_loader)\n",
    "    \n",
    "    batch = next(dataiter)\n",
    "    labels = batch[1][0:5]\n",
    "    images = batch[0][0:5]\n",
    "    for i in range(5):\n",
    "        print(classes[labels[i]])\n",
    "    \n",
    "        image = images[i].numpy()\n",
    "        plt.imshow(image.T)\n",
    "        plt.show()"
   ]
  },
  {
   "cell_type": "code",
   "execution_count": 6,
   "metadata": {},
   "outputs": [
    {
     "name": "stderr",
     "output_type": "stream",
     "text": [
      "Clipping input data to the valid range for imshow with RGB data ([0..1] for floats or [0..255] for integers).\n"
     ]
    },
    {
     "name": "stdout",
     "output_type": "stream",
     "text": [
      "car\n"
     ]
    },
    {
     "data": {
      "image/png": "[encoded data removed]",
      "text/plain": [
       "<Figure size 640x480 with 1 Axes>"
      ]
     },
     "metadata": {},
     "output_type": "display_data"
    },
    {
     "name": "stderr",
     "output_type": "stream",
     "text": [
      "Clipping input data to the valid range for imshow with RGB data ([0..1] for floats or [0..255] for integers).\n"
     ]
    },
    {
     "name": "stdout",
     "output_type": "stream",
     "text": [
      "frog\n"
     ]
    },
    {
     "data": {
      "image/png": "[encoded data removed]",
      "text/plain": [
       "<Figure size 640x480 with 1 Axes>"
      ]
     },
     "metadata": {},
     "output_type": "display_data"
    },
    {
     "name": "stderr",
     "output_type": "stream",
     "text": [
      "Clipping input data to the valid range for imshow with RGB data ([0..1] for floats or [0..255] for integers).\n"
     ]
    },
    {
     "name": "stdout",
     "output_type": "stream",
     "text": [
      "cat\n"
     ]
    },
    {
     "data": {
      "image/png": "[encoded data removed]",
      "text/plain": [
       "<Figure size 640x480 with 1 Axes>"
      ]
     },
     "metadata": {},
     "output_type": "display_data"
    },
    {
     "name": "stderr",
     "output_type": "stream",
     "text": [
      "Clipping input data to the valid range for imshow with RGB data ([0..1] for floats or [0..255] for integers).\n"
     ]
    },
    {
     "name": "stdout",
     "output_type": "stream",
     "text": [
      "cat\n"
     ]
    },
    {
     "data": {
      "image/png": "[encoded data removed]",
      "text/plain": [
       "<Figure size 640x480 with 1 Axes>"
      ]
     },
     "metadata": {},
     "output_type": "display_data"
    },
    {
     "name": "stderr",
     "output_type": "stream",
     "text": [
      "Clipping input data to the valid range for imshow with RGB data ([0..1] for floats or [0..255] for integers).\n"
     ]
    },
    {
     "name": "stdout",
     "output_type": "stream",
     "text": [
      "ship\n"
     ]
    },
    {
     "data": {
      "image/png": "[encoded data removed]",
      "text/plain": [
       "<Figure size 640x480 with 1 Axes>"
      ]
     },
     "metadata": {},
     "output_type": "display_data"
    }
   ],
   "source": [
    "# Explore data\n",
    "## YOUR CODE HERE ##\n",
    "show5(train_loader)"
   ]
  },
  {
   "cell_type": "markdown",
   "metadata": {},
   "source": [
    "## Build your Neural Network\n",
    "Using the layers in `torch.nn` (which has been imported as `nn`) and the `torch.nn.functional` module (imported as `F`), construct a neural network based on the parameters of the dataset. \n",
    "Feel free to construct a model of any architecture – feedforward, convolutional, or even something more advanced!"
   ]
  },
  {
   "cell_type": "code",
   "execution_count": 9,
   "metadata": {},
   "outputs": [
    {
     "data": {
      "text/plain": [
       "Sequential(\n",
       "  (0): Conv2d(3, 32, kernel_size=(3, 3), stride=(1, 1), padding=(1, 1))\n",
       "  (1): ReLU()\n",
       "  (2): MaxPool2d(kernel_size=2, stride=2, padding=0, dilation=1, ceil_mode=False)\n",
       "  (3): Dropout(p=0.2, inplace=False)\n",
       "  (4): Conv2d(32, 64, kernel_size=(3, 3), stride=(1, 1), padding=(1, 1))\n",
       "  (5): ReLU()\n",
       "  (6): MaxPool2d(kernel_size=2, stride=2, padding=0, dilation=1, ceil_mode=False)\n",
       "  (7): Dropout(p=0.2, inplace=False)\n",
       "  (8): Flatten(start_dim=1, end_dim=-1)\n",
       "  (9): Linear(in_features=4096, out_features=128, bias=True)\n",
       "  (10): ReLU()\n",
       "  (11): Dropout(p=0.2, inplace=False)\n",
       "  (12): Linear(in_features=128, out_features=64, bias=True)\n",
       "  (13): ReLU()\n",
       "  (14): Dropout(p=0.2, inplace=False)\n",
       "  (15): Linear(in_features=64, out_features=10, bias=True)\n",
       "  (16): LogSoftmax(dim=1)\n",
       ")"
      ]
     },
     "execution_count": 9,
     "metadata": {},
     "output_type": "execute_result"
    }
   ],
   "source": [
    "## YOUR CODE HERE ##\n",
    "\n",
    "# Note: As it turned out, my laptop is not strong enough to run these pre-trained networks.\n",
    "# model = models.resnet152(weights='ResNet152_Weights.DEFAULT')\n",
    "# model = models.resnet34(weights='ResNet34_Weights.DEFAULT')\n",
    "# model = models.resnet18(weights='ResNet18_Weights.DEFAULT')\n",
    "\n",
    "# Vanilla ConvNet\n",
    "model = nn.Sequential(\n",
    "    nn.Conv2d(3, 32, kernel_size=3, padding=1),\n",
    "    nn.ReLU(),\n",
    "    nn.MaxPool2d(2, 2),\n",
    "    nn.Dropout(0.2),\n",
    "    nn.Conv2d(32, 64, kernel_size=3, padding=1),\n",
    "    nn.ReLU(),\n",
    "    nn.MaxPool2d(2, 2),\n",
    "    nn.Dropout(0.2),\n",
    "    nn.Flatten(),\n",
    "    nn.Linear(64*8*8, 128),\n",
    "    nn.ReLU(),\n",
    "    nn.Dropout(0.2),\n",
    "    nn.Linear(128, 64),\n",
    "    nn.ReLU(),\n",
    "    nn.Dropout(0.2),\n",
    "    nn.Linear(64, 10),\n",
    "    nn.LogSoftmax(dim=1)\n",
    ")\n",
    "\n",
    "model"
   ]
  },
  {
   "cell_type": "code",
   "execution_count": 10,
   "metadata": {},
   "outputs": [],
   "source": [
    "# Note: As it turned out, my laptop is not strong enough to run pre-trained networks.\n",
    "\n",
    "# Freeze parameters so we don't backprop through them\n",
    "# for param in model.parameters():\n",
    "#     param.requires_grad = False\n",
    "\n",
    "# from collections import OrderedDict\n",
    "\n",
    "# # ResNet18, ResNet34\n",
    "# fc = nn.Linear(model.fc.in_features, 10)\n",
    "\n",
    "# fc = nn.Sequential(OrderedDict([\n",
    "#                    ('fc1', nn.Linear(512, 256)),\n",
    "#                    ('relu', nn.ReLU()),\n",
    "#                    ('fc2', nn.Linear(256, 10)),\n",
    "#                    ('output', nn.LogSoftmax(dim=1))\n",
    "#                    ]))\n",
    "\n",
    "# fc = nn.Sequential(OrderedDict([\n",
    "#                    ('fc1', nn.Linear(512, 256)),\n",
    "#                    ('relu', nn.ReLU()),\n",
    "#                    ('fc2', nn.Linear(256, 10)),\n",
    "#                    ('output', nn.LogSoftmax(dim=1))\n",
    "#                    ]))\n",
    "# ResNet152\n",
    "# fc = nn.Sequential(OrderedDict([\n",
    "#                    ('fc1', nn.Linear(2048, 1024)),\n",
    "#                    ('relu', nn.ReLU()),\n",
    "#                    ('fc2', nn.Linear(1024, 512)),\n",
    "#                    ('relu', nn.ReLU()),\n",
    "#                    ('fc3', nn.Linear(512, 256)),\n",
    "#                    ('relu', nn.ReLU()),\n",
    "#                    ('fc4', nn.Linear(256, 10)),\n",
    "#                    ('output', nn.LogSoftmax(dim=1))\n",
    "#                    ]))\n",
    "# model.fc = fc"
   ]
  },
  {
   "cell_type": "markdown",
   "metadata": {},
   "source": [
    "Specify a loss function and an optimizer, and instantiate the model.\n",
    "\n",
    "If you use a less common loss function, please note why you chose that loss function in a comment."
   ]
  },
  {
   "cell_type": "code",
   "execution_count": 11,
   "metadata": {},
   "outputs": [],
   "source": [
    "## YOUR CODE HERE ##\n",
    "criterion = nn.NLLLoss()\n",
    "optimizer = optim.SGD(model.parameters(), lr=0.001, momentum=0.9)"
   ]
  },
  {
   "cell_type": "markdown",
   "metadata": {},
   "source": [
    "## Running your Neural Network\n",
    "Use whatever method you like to train your neural network, and ensure you record the average loss at each epoch. \n",
    "Don't forget to use `torch.device()` and the `.to()` method for both your model and your data if you are using GPU!\n",
    "\n",
    "If you want to print your loss during each epoch, you can use the `enumerate` function and print the loss after a set number of batches. 250 batches works well for most people!"
   ]
  },
  {
   "cell_type": "code",
   "execution_count": 12,
   "metadata": {},
   "outputs": [
    {
     "name": "stdout",
     "output_type": "stream",
     "text": [
      "Using cuda\n",
      "Epoch 1/100.. Running loss: 2.179.. Validation loss: 1.974.. Validation accuracy: 0.307\n",
      "Epoch 2/100.. Running loss: 1.921.. Validation loss: 1.804.. Validation accuracy: 0.355\n",
      "Epoch 3/100.. Running loss: 1.770.. Validation loss: 1.650.. Validation accuracy: 0.419\n",
      "Epoch 4/100.. Running loss: 1.659.. Validation loss: 1.552.. Validation accuracy: 0.454\n",
      "Epoch 5/100.. Running loss: 1.581.. Validation loss: 1.452.. Validation accuracy: 0.480\n",
      "Epoch 6/100.. Running loss: 1.530.. Validation loss: 1.407.. Validation accuracy: 0.493\n",
      "Epoch 7/100.. Running loss: 1.491.. Validation loss: 1.389.. Validation accuracy: 0.503\n",
      "Epoch 8/100.. Running loss: 1.456.. Validation loss: 1.342.. Validation accuracy: 0.520\n",
      "Epoch 9/100.. Running loss: 1.427.. Validation loss: 1.293.. Validation accuracy: 0.540\n",
      "Epoch 10/100.. Running loss: 1.399.. Validation loss: 1.284.. Validation accuracy: 0.551\n",
      "Epoch 11/100.. Running loss: 1.378.. Validation loss: 1.261.. Validation accuracy: 0.548\n",
      "Epoch 12/100.. Running loss: 1.355.. Validation loss: 1.230.. Validation accuracy: 0.565\n",
      "Epoch 13/100.. Running loss: 1.335.. Validation loss: 1.201.. Validation accuracy: 0.573\n",
      "Epoch 14/100.. Running loss: 1.314.. Validation loss: 1.182.. Validation accuracy: 0.586\n",
      "Epoch 15/100.. Running loss: 1.296.. Validation loss: 1.157.. Validation accuracy: 0.595\n",
      "Epoch 16/100.. Running loss: 1.274.. Validation loss: 1.132.. Validation accuracy: 0.600\n",
      "Epoch 17/100.. Running loss: 1.264.. Validation loss: 1.106.. Validation accuracy: 0.610\n",
      "Epoch 18/100.. Running loss: 1.239.. Validation loss: 1.095.. Validation accuracy: 0.617\n",
      "Epoch 19/100.. Running loss: 1.227.. Validation loss: 1.067.. Validation accuracy: 0.622\n",
      "Epoch 20/100.. Running loss: 1.213.. Validation loss: 1.067.. Validation accuracy: 0.630\n",
      "Epoch 21/100.. Running loss: 1.198.. Validation loss: 1.039.. Validation accuracy: 0.639\n",
      "Epoch 22/100.. Running loss: 1.186.. Validation loss: 1.026.. Validation accuracy: 0.645\n",
      "Epoch 23/100.. Running loss: 1.172.. Validation loss: 1.020.. Validation accuracy: 0.648\n",
      "Epoch 24/100.. Running loss: 1.157.. Validation loss: 0.983.. Validation accuracy: 0.653\n",
      "Epoch 25/100.. Running loss: 1.143.. Validation loss: 0.978.. Validation accuracy: 0.657\n",
      "Epoch 26/100.. Running loss: 1.133.. Validation loss: 0.982.. Validation accuracy: 0.659\n",
      "Epoch 27/100.. Running loss: 1.116.. Validation loss: 0.952.. Validation accuracy: 0.663\n",
      "Epoch 28/100.. Running loss: 1.109.. Validation loss: 0.953.. Validation accuracy: 0.668\n",
      "Epoch 29/100.. Running loss: 1.102.. Validation loss: 0.948.. Validation accuracy: 0.671\n",
      "Epoch 30/100.. Running loss: 1.088.. Validation loss: 0.929.. Validation accuracy: 0.674\n",
      "Epoch 31/100.. Running loss: 1.081.. Validation loss: 0.928.. Validation accuracy: 0.678\n",
      "Epoch 32/100.. Running loss: 1.073.. Validation loss: 0.929.. Validation accuracy: 0.673\n",
      "Epoch 33/100.. Running loss: 1.069.. Validation loss: 0.901.. Validation accuracy: 0.688\n",
      "Epoch 34/100.. Running loss: 1.057.. Validation loss: 0.910.. Validation accuracy: 0.684\n",
      "Epoch 35/100.. Running loss: 1.046.. Validation loss: 0.902.. Validation accuracy: 0.690\n",
      "Epoch 36/100.. Running loss: 1.042.. Validation loss: 0.885.. Validation accuracy: 0.692\n",
      "Epoch 37/100.. Running loss: 1.032.. Validation loss: 0.882.. Validation accuracy: 0.691\n",
      "Epoch 38/100.. Running loss: 1.029.. Validation loss: 0.867.. Validation accuracy: 0.699\n",
      "Epoch 39/100.. Running loss: 1.015.. Validation loss: 0.864.. Validation accuracy: 0.702\n",
      "Epoch 40/100.. Running loss: 1.011.. Validation loss: 0.857.. Validation accuracy: 0.704\n",
      "Epoch 41/100.. Running loss: 1.003.. Validation loss: 0.851.. Validation accuracy: 0.702\n",
      "Epoch 42/100.. Running loss: 1.000.. Validation loss: 0.855.. Validation accuracy: 0.703\n",
      "Epoch 43/100.. Running loss: 0.995.. Validation loss: 0.848.. Validation accuracy: 0.701\n",
      "Epoch 44/100.. Running loss: 0.988.. Validation loss: 0.830.. Validation accuracy: 0.711\n",
      "Epoch 45/100.. Running loss: 0.978.. Validation loss: 0.828.. Validation accuracy: 0.711\n",
      "Epoch 46/100.. Running loss: 0.975.. Validation loss: 0.828.. Validation accuracy: 0.711\n",
      "Epoch 47/100.. Running loss: 0.971.. Validation loss: 0.827.. Validation accuracy: 0.716\n",
      "Epoch 48/100.. Running loss: 0.961.. Validation loss: 0.809.. Validation accuracy: 0.719\n",
      "Epoch 49/100.. Running loss: 0.957.. Validation loss: 0.806.. Validation accuracy: 0.719\n",
      "Epoch 50/100.. Running loss: 0.957.. Validation loss: 0.805.. Validation accuracy: 0.723\n",
      "Epoch 51/100.. Running loss: 0.946.. Validation loss: 0.803.. Validation accuracy: 0.722\n",
      "Epoch 52/100.. Running loss: 0.948.. Validation loss: 0.796.. Validation accuracy: 0.723\n",
      "Epoch 53/100.. Running loss: 0.936.. Validation loss: 0.798.. Validation accuracy: 0.720\n",
      "Epoch 54/100.. Running loss: 0.934.. Validation loss: 0.797.. Validation accuracy: 0.725\n",
      "Epoch 55/100.. Running loss: 0.928.. Validation loss: 0.782.. Validation accuracy: 0.729\n",
      "Epoch 56/100.. Running loss: 0.920.. Validation loss: 0.782.. Validation accuracy: 0.731\n",
      "Epoch 57/100.. Running loss: 0.927.. Validation loss: 0.778.. Validation accuracy: 0.730\n",
      "Epoch 58/100.. Running loss: 0.915.. Validation loss: 0.772.. Validation accuracy: 0.733\n",
      "Epoch 59/100.. Running loss: 0.914.. Validation loss: 0.779.. Validation accuracy: 0.730\n",
      "Epoch 60/100.. Running loss: 0.911.. Validation loss: 0.778.. Validation accuracy: 0.733\n",
      "Epoch 61/100.. Running loss: 0.908.. Validation loss: 0.763.. Validation accuracy: 0.739\n",
      "Epoch 62/100.. Running loss: 0.901.. Validation loss: 0.766.. Validation accuracy: 0.734\n",
      "Epoch 63/100.. Running loss: 0.893.. Validation loss: 0.767.. Validation accuracy: 0.733\n",
      "Epoch 64/100.. Running loss: 0.884.. Validation loss: 0.764.. Validation accuracy: 0.736\n",
      "Epoch 65/100.. Running loss: 0.890.. Validation loss: 0.749.. Validation accuracy: 0.739\n",
      "Epoch 66/100.. Running loss: 0.887.. Validation loss: 0.750.. Validation accuracy: 0.742\n",
      "Epoch 67/100.. Running loss: 0.882.. Validation loss: 0.746.. Validation accuracy: 0.741\n",
      "Epoch 68/100.. Running loss: 0.871.. Validation loss: 0.752.. Validation accuracy: 0.737\n",
      "Epoch 69/100.. Running loss: 0.875.. Validation loss: 0.736.. Validation accuracy: 0.744\n",
      "Epoch 70/100.. Running loss: 0.876.. Validation loss: 0.741.. Validation accuracy: 0.745\n",
      "Epoch 71/100.. Running loss: 0.863.. Validation loss: 0.734.. Validation accuracy: 0.741\n",
      "Epoch 72/100.. Running loss: 0.865.. Validation loss: 0.740.. Validation accuracy: 0.741\n",
      "Epoch 73/100.. Running loss: 0.861.. Validation loss: 0.732.. Validation accuracy: 0.744\n",
      "Epoch 74/100.. Running loss: 0.854.. Validation loss: 0.729.. Validation accuracy: 0.746\n",
      "Epoch 75/100.. Running loss: 0.854.. Validation loss: 0.731.. Validation accuracy: 0.744\n",
      "Epoch 76/100.. Running loss: 0.853.. Validation loss: 0.732.. Validation accuracy: 0.748\n",
      "Epoch 77/100.. Running loss: 0.851.. Validation loss: 0.724.. Validation accuracy: 0.750\n",
      "Epoch 78/100.. Running loss: 0.845.. Validation loss: 0.713.. Validation accuracy: 0.756\n",
      "Epoch 79/100.. Running loss: 0.844.. Validation loss: 0.724.. Validation accuracy: 0.750\n",
      "Epoch 80/100.. Running loss: 0.841.. Validation loss: 0.724.. Validation accuracy: 0.752\n",
      "Epoch 81/100.. Running loss: 0.840.. Validation loss: 0.727.. Validation accuracy: 0.748\n",
      "Epoch 82/100.. Running loss: 0.836.. Validation loss: 0.711.. Validation accuracy: 0.755\n",
      "Epoch 83/100.. Running loss: 0.830.. Validation loss: 0.713.. Validation accuracy: 0.753\n",
      "Epoch 84/100.. Running loss: 0.823.. Validation loss: 0.708.. Validation accuracy: 0.753\n",
      "Epoch 85/100.. Running loss: 0.825.. Validation loss: 0.709.. Validation accuracy: 0.752\n",
      "Epoch 86/100.. Running loss: 0.819.. Validation loss: 0.707.. Validation accuracy: 0.752\n",
      "Epoch 87/100.. Running loss: 0.822.. Validation loss: 0.707.. Validation accuracy: 0.755\n",
      "Epoch 88/100.. Running loss: 0.817.. Validation loss: 0.702.. Validation accuracy: 0.755\n",
      "Epoch 89/100.. Running loss: 0.810.. Validation loss: 0.701.. Validation accuracy: 0.757\n",
      "Epoch 90/100.. Running loss: 0.810.. Validation loss: 0.698.. Validation accuracy: 0.757\n",
      "Epoch 91/100.. Running loss: 0.810.. Validation loss: 0.699.. Validation accuracy: 0.759\n",
      "Epoch 92/100.. Running loss: 0.806.. Validation loss: 0.686.. Validation accuracy: 0.765\n",
      "Epoch 93/100.. Running loss: 0.808.. Validation loss: 0.695.. Validation accuracy: 0.758\n",
      "Epoch 94/100.. Running loss: 0.807.. Validation loss: 0.695.. Validation accuracy: 0.758\n",
      "Epoch 95/100.. Running loss: 0.798.. Validation loss: 0.691.. Validation accuracy: 0.760\n",
      "Epoch 96/100.. Running loss: 0.794.. Validation loss: 0.686.. Validation accuracy: 0.763\n",
      "Epoch 97/100.. Running loss: 0.797.. Validation loss: 0.686.. Validation accuracy: 0.762\n",
      "Epoch 98/100.. Running loss: 0.793.. Validation loss: 0.690.. Validation accuracy: 0.762\n",
      "Epoch 99/100.. Running loss: 0.790.. Validation loss: 0.672.. Validation accuracy: 0.771\n",
      "Epoch 100/100.. Running loss: 0.790.. Validation loss: 0.679.. Validation accuracy: 0.769\n"
     ]
    }
   ],
   "source": [
    "## YOUR CODE HERE ##\n",
    "\n",
    "device = torch.device(\"cuda\" if torch.cuda.is_available() else \"cpu\")\n",
    "print(f\"Using {device}\")\n",
    "model.to(device)\n",
    "\n",
    "epochs = 100\n",
    "running_loss_list = []\n",
    "val_loss_list = []\n",
    "accuracy_list = []\n",
    "\n",
    "start_epoch = 0\n",
    "\n",
    "# Load checkpoint if exists\n",
    "if os.path.exists(CHECKPOINT_FILEPATH):\n",
    "    checkpoint = torch.load(CHECKPOINT_FILEPATH)\n",
    "    model.load_state_dict(checkpoint['model_state_dict'])\n",
    "    optimizer.load_state_dict(checkpoint['optimizer_state_dict'])\n",
    "    start_epoch = checkpoint['epoch']\n",
    "    running_loss_list = checkpoint['running_loss_list']\n",
    "    accuracy_list = checkpoint['accuracy_list']\n",
    "    val_loss_list = checkpoint['val_loss_list']\n",
    "    model.train()\n",
    "\n",
    "for epoch in range(start_epoch, epochs):\n",
    "    running_loss = 0\n",
    "    for inputs, labels in train_loader:\n",
    "        # Move input and label tensors to the default device\n",
    "        inputs, labels = inputs.to(device), labels.to(device)\n",
    "        optimizer.zero_grad()\n",
    "        \n",
    "        logps = model.forward(inputs)\n",
    "        loss = criterion(logps, labels)\n",
    "        loss.backward()\n",
    "        optimizer.step()\n",
    "\n",
    "        running_loss += loss.item()\n",
    "    else:\n",
    "        accuracy = 0\n",
    "        val_loss = 0\n",
    "        model.eval()\n",
    "        with torch.no_grad():\n",
    "            for inputs, labels in val_loader:\n",
    "                \n",
    "                inputs, labels = inputs.to(device), labels.to(device)\n",
    "    \n",
    "                logps = model.forward(inputs)\n",
    "                loss = criterion(logps, labels)\n",
    "    \n",
    "                val_loss += loss.item()\n",
    "    \n",
    "                # Calculate accuracy\n",
    "                ps = torch.exp(logps)\n",
    "                top_p, top_class = ps.topk(1, dim=1)\n",
    "                equals = top_class == labels.view(*top_class.shape)\n",
    "                accuracy += torch.mean(equals.type(torch.FloatTensor)).item()\n",
    "                        \n",
    "        print(f\"Epoch {epoch+1}/{epochs}.. \"\n",
    "                    f\"Running loss: {running_loss/len(train_loader):.3f}.. \"\n",
    "                    f\"Validation loss: {val_loss/len(val_loader):.3f}.. \"\n",
    "                    f\"Validation accuracy: {accuracy/len(val_loader):.3f}\")\n",
    "        \n",
    "        running_loss_list.append(round(running_loss/len(train_loader), 3))\n",
    "        accuracy_list.append(round(accuracy/len(val_loader), 3))\n",
    "        val_loss_list.append(round(val_loss/len(val_loader), 3))\n",
    "        \n",
    "        # Save model after each epoch\n",
    "        torch.save({\n",
    "            'epoch': epoch + 1,\n",
    "            'model_state_dict': model.state_dict(),\n",
    "            'optimizer_state_dict': optimizer.state_dict(),\n",
    "            'running_loss_list': running_loss_list,\n",
    "            'accuracy_list': accuracy_list,\n",
    "            'val_loss_list': val_loss_list\n",
    "        }, CHECKPOINT_FILEPATH)\n",
    "        \n",
    "    model.train()"
   ]
  },
  {
   "cell_type": "markdown",
   "metadata": {},
   "source": [
    "Plot the training loss (and validation loss/accuracy, if recorded)."
   ]
  },
  {
   "cell_type": "code",
   "execution_count": 13,
   "metadata": {},
   "outputs": [
    {
     "data": {
      "text/plain": [
       "<matplotlib.legend.Legend at 0x7fad7fbe5930>"
      ]
     },
     "execution_count": 13,
     "metadata": {},
     "output_type": "execute_result"
    },
    {
     "data": {
      "image/png": "[encoded data removed]",
      "text/plain": [
       "<Figure size 800x600 with 1 Axes>"
      ]
     },
     "metadata": {},
     "output_type": "display_data"
    }
   ],
   "source": [
    "## YOUR CODE HERE ##\n",
    "plt.figure(figsize=(8, 6))\n",
    "plt.plot(running_loss_list, label='Train', marker='o')\n",
    "plt.plot(val_loss_list, label='Validation', marker='o')\n",
    "plt.xlabel('Epoch')\n",
    "plt.ylabel('Loss')\n",
    "plt.grid()\n",
    "plt.legend()"
   ]
  },
  {
   "cell_type": "code",
   "execution_count": 14,
   "metadata": {},
   "outputs": [
    {
     "data": {
      "image/png": "[encoded data removed]",
      "text/plain": [
       "<Figure size 800x600 with 1 Axes>"
      ]
     },
     "metadata": {},
     "output_type": "display_data"
    }
   ],
   "source": [
    "plt.figure(figsize=(8, 6))\n",
    "plt.plot(accuracy_list, label='Test', marker='o')\n",
    "plt.xlabel('Epoch')\n",
    "plt.ylabel('Accuracy')\n",
    "plt.legend()\n",
    "plt.grid()"
   ]
  },
  {
   "cell_type": "markdown",
   "metadata": {},
   "source": [
    "## Testing your model\n",
    "Using the previously created `DataLoader` for the test set, compute the percentage of correct predictions using the highest probability prediction. \n",
    "\n",
    "If your accuracy is over 70%, great work! \n",
    "This is a hard task to exceed 70% on.\n",
    "\n",
    "If your accuracy is under 45%, you'll need to make improvements.\n",
    "Go back and check your model architecture, loss function, and optimizer to make sure they're appropriate for an image classification task."
   ]
  },
  {
   "cell_type": "code",
   "execution_count": 15,
   "metadata": {},
   "outputs": [
    {
     "name": "stdout",
     "output_type": "stream",
     "text": [
      "Test Accuracy: 76.03%\n"
     ]
    }
   ],
   "source": [
    "## YOUR CODE HERE ##\n",
    "\n",
    "\n",
    "accuracy = 0\n",
    "model.eval()\n",
    "with torch.no_grad():\n",
    "    for inputs, labels in test_loader:\n",
    "        inputs, labels = inputs.to(device), labels.to(device)\n",
    "        \n",
    "        logps = model.forward(inputs)\n",
    "                \n",
    "        # Calculate accuracy\n",
    "        ps = torch.exp(logps)\n",
    "        top_p, top_class = ps.topk(1, dim=1)\n",
    "        equals = top_class == labels.view(*top_class.shape)\n",
    "        accuracy += torch.mean(equals.type(torch.FloatTensor)).item()\n",
    "        \n",
    "accuracy = accuracy/len(test_loader)\n",
    "print(f'Test Accuracy: {accuracy*100:.2f}%')"
   ]
  },
  {
   "cell_type": "markdown",
   "metadata": {},
   "source": [
    "## Saving your model\n",
    "Using `torch.save`, save your model for future loading."
   ]
  },
  {
   "cell_type": "code",
   "execution_count": 16,
   "metadata": {},
   "outputs": [],
   "source": [
    "## YOUR CODE HERE ##\n",
    "torch.save({\n",
    "    'epoch': epoch + 1,\n",
    "    'model_state_dict': model.state_dict(),\n",
    "    'optimizer_state_dict': optimizer.state_dict(),\n",
    "    'running_loss_list': running_loss_list,\n",
    "    'accuracy_list': accuracy_list,\n",
    "    'val_loss_list': val_loss_list\n",
    "}, CHECKPOINT_FILEPATH)"
   ]
  },
  {
   "cell_type": "markdown",
   "metadata": {},
   "source": [
    "## Make a Recommendation\n",
    "\n",
    "Based on your evaluation, what is your recommendation on whether to build or buy? Explain your reasoning below."
   ]
  },
  {
   "cell_type": "markdown",
   "metadata": {},
   "source": [
    "With a simple Convolutional Network architecture and sufficient training epochs, we managed to reach 76% accuracy.\n",
    "\n",
    "Therefore, I believe it is better to build our own classifier.\n",
    "\n",
    "Due to hardware limitation, I was not able to use a pretrained torchvision model. As a workaround:\n",
    "\n",
    "- I use a vanilla Convolutional Network, but increased the number of training epochs to 100.\n",
    "- In an earlier iteration the notebook had to be run run in multiple sessions. To accommodate this, I added a feature to save/load the progress as we train."
   ]
  },
  {
   "cell_type": "code",
   "execution_count": null,
   "metadata": {},
   "outputs": [],
   "source": []
  }
 ],
 "metadata": {
  "kernelspec": {
   "display_name": "Python 3 (ipykernel)",
   "language": "python",
   "name": "python3"
  },
  "language_info": {
   "codemirror_mode": {
    "name": "ipython",
    "version": 3
   },
   "file_extension": ".py",
   "mimetype": "text/x-python",
   "name": "python",
   "nbconvert_exporter": "python",
   "pygments_lexer": "ipython3",
   "version": "3.10.6"
  }
 },
 "nbformat": 4,
 "nbformat_minor": 4
}
